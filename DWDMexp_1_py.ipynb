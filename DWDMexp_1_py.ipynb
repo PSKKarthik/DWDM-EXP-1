{
  "nbformat": 4,
  "nbformat_minor": 0,
  "metadata": {
    "colab": {
      "provenance": [],
      "authorship_tag": "ABX9TyPamVMUH0HrCImP69g9oOEg",
      "include_colab_link": true
    },
    "kernelspec": {
      "name": "python3",
      "display_name": "Python 3"
    },
    "language_info": {
      "name": "python"
    }
  },
  "cells": [
    {
      "cell_type": "markdown",
      "metadata": {
        "id": "view-in-github",
        "colab_type": "text"
      },
      "source": [
        "<a href=\"https://colab.research.google.com/github/PSKKarthik/DWDM-EXP-1/blob/main/DWDMexp_1_py.ipynb\" target=\"_parent\"><img src=\"https://colab.research.google.com/assets/colab-badge.svg\" alt=\"Open In Colab\"/></a>"
      ]
    },
    {
      "cell_type": "code",
      "execution_count": null,
      "metadata": {
        "id": "8SW2S8L86i3-",
        "colab": {
          "base_uri": "https://localhost:8080/"
        },
        "outputId": "f8016bb3-2c36-4b65-b690-6cbe4828834e"
      },
      "outputs": [
        {
          "output_type": "stream",
          "name": "stdout",
          "text": [
            "[1, 2, 3]\n"
          ]
        }
      ],
      "source": [
        "import numpy as np\n",
        "data=[1,2,3]\n",
        "print(data)"
      ]
    },
    {
      "cell_type": "code",
      "source": [
        "data=[[1,2,3],[5,6,8]]\n",
        "data[:][1]"
      ],
      "metadata": {
        "colab": {
          "base_uri": "https://localhost:8080/"
        },
        "id": "LTn42oTI9OCR",
        "outputId": "7706d7b4-e171-4ed3-b91d-ea68b3e87aa7"
      },
      "execution_count": null,
      "outputs": [
        {
          "output_type": "execute_result",
          "data": {
            "text/plain": [
              "[5, 6, 8]"
            ]
          },
          "metadata": {},
          "execution_count": 2
        }
      ]
    },
    {
      "cell_type": "code",
      "source": [
        "data1=[[1,2,3],[4,5,6]]\n",
        "arr=np.array(data1)\n",
        "arr[:,1]"
      ],
      "metadata": {
        "colab": {
          "base_uri": "https://localhost:8080/"
        },
        "id": "XNIjhZUV9RD8",
        "outputId": "12a84d72-2062-40b6-fa4b-af5940ad6e12"
      },
      "execution_count": null,
      "outputs": [
        {
          "output_type": "execute_result",
          "data": {
            "text/plain": [
              "array([2, 5])"
            ]
          },
          "metadata": {},
          "execution_count": 3
        }
      ]
    },
    {
      "cell_type": "code",
      "source": [
        "import numpy as np\n",
        "data=[[1,2,3],[4,5,6],[7,8,9]]\n",
        "arr=np.array(data)\n",
        "arr[:2,1:]"
      ],
      "metadata": {
        "colab": {
          "base_uri": "https://localhost:8080/"
        },
        "id": "IU6x6r9r9a58",
        "outputId": "9bc60330-dea7-4ed6-a07c-41463062503b"
      },
      "execution_count": null,
      "outputs": [
        {
          "output_type": "execute_result",
          "data": {
            "text/plain": [
              "array([[2, 3],\n",
              "       [5, 6]])"
            ]
          },
          "metadata": {},
          "execution_count": 4
        }
      ]
    },
    {
      "cell_type": "code",
      "source": [
        "import numpy as np\n",
        "import numpy as np\n",
        "data=[[[1,2,3],[4,5,6],[7,8,9]],[[1,2,3],[4,5,6],[7,8,9]]]\n",
        "arr=np.array(data)\n",
        "arr.T"
      ],
      "metadata": {
        "colab": {
          "base_uri": "https://localhost:8080/"
        },
        "id": "4fq7UsRM9eL8",
        "outputId": "9f28c111-00e9-4f47-a18f-00154d8e302c"
      },
      "execution_count": null,
      "outputs": [
        {
          "output_type": "execute_result",
          "data": {
            "text/plain": [
              "array([[[1, 1],\n",
              "        [4, 4],\n",
              "        [7, 7]],\n",
              "\n",
              "       [[2, 2],\n",
              "        [5, 5],\n",
              "        [8, 8]],\n",
              "\n",
              "       [[3, 3],\n",
              "        [6, 6],\n",
              "        [9, 9]]])"
            ]
          },
          "metadata": {},
          "execution_count": 5
        }
      ]
    },
    {
      "cell_type": "code",
      "source": [
        "import numpy as np\n",
        "import numpy as np\n",
        "data=[[[1,2,3],[4,5,6],[7,8,9]],[[11,22,33],[43,50,16],[71,83,91]]]\n",
        "arr=np.array(data)\n",
        "arr.swapaxes(0,1)"
      ],
      "metadata": {
        "colab": {
          "base_uri": "https://localhost:8080/"
        },
        "id": "lfVZ4aQQ9kbJ",
        "outputId": "7a4ef99b-9508-405e-ede3-8fcbd733e517"
      },
      "execution_count": null,
      "outputs": [
        {
          "output_type": "execute_result",
          "data": {
            "text/plain": [
              "array([[[ 1,  2,  3],\n",
              "        [11, 22, 33]],\n",
              "\n",
              "       [[ 4,  5,  6],\n",
              "        [43, 50, 16]],\n",
              "\n",
              "       [[ 7,  8,  9],\n",
              "        [71, 83, 91]]])"
            ]
          },
          "metadata": {},
          "execution_count": 6
        }
      ]
    },
    {
      "cell_type": "code",
      "source": [
        "data1=[[1,2,3],[4,5,6],[7,8,9]]\n",
        "arr=np.array(data1)\n",
        "arr2=arr.T\n",
        "print(arr)\n",
        "print(\"\\n\")\n",
        "print(arr2)\n",
        "print(\"\\n\")\n",
        "print(arr2[-1])"
      ],
      "metadata": {
        "colab": {
          "base_uri": "https://localhost:8080/"
        },
        "id": "k0FKk13E9nwB",
        "outputId": "8e2b95e9-056f-4a8a-f85c-a799bf416a5b"
      },
      "execution_count": null,
      "outputs": [
        {
          "output_type": "stream",
          "name": "stdout",
          "text": [
            "[[1 2 3]\n",
            " [4 5 6]\n",
            " [7 8 9]]\n",
            "\n",
            "\n",
            "[[1 4 7]\n",
            " [2 5 8]\n",
            " [3 6 9]]\n",
            "\n",
            "\n",
            "[3 6 9]\n"
          ]
        }
      ]
    },
    {
      "cell_type": "code",
      "source": [
        "import numpy as np\n",
        "\n",
        "data=[[[1,2,3],[4,5,6],[7,8,9]],[[11,22,33],[43,50,16],[71,83,91]]]\n",
        "arr=np.array(data)\n",
        "print(arr)\n",
        "print(\"\\n\")\n",
        "print(arr[1][:2,:2])"
      ],
      "metadata": {
        "colab": {
          "base_uri": "https://localhost:8080/"
        },
        "id": "xXyihWrZ9r8h",
        "outputId": "6f28714a-c9cc-4ff7-8ae6-a35561780155"
      },
      "execution_count": null,
      "outputs": [
        {
          "output_type": "stream",
          "name": "stdout",
          "text": [
            "[[[ 1  2  3]\n",
            "  [ 4  5  6]\n",
            "  [ 7  8  9]]\n",
            "\n",
            " [[11 22 33]\n",
            "  [43 50 16]\n",
            "  [71 83 91]]]\n",
            "\n",
            "\n",
            "[[11 22]\n",
            " [43 50]]\n"
          ]
        }
      ]
    }
  ]
}